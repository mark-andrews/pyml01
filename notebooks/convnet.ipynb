{
  "nbformat": 4,
  "nbformat_minor": 0,
  "metadata": {
    "colab": {
      "name": "convnet.ipynb",
      "provenance": []
    },
    "kernelspec": {
      "name": "python3",
      "display_name": "Python 3"
    }
  },
  "cells": [
    {
      "cell_type": "code",
      "metadata": {
        "id": "yH6Ix2dXNsFo"
      },
      "source": [
        "import torch\n",
        "import torchvision\n",
        "\n",
        "tt = torchvision.transforms.Compose([torchvision.transforms.ToTensor(),\n",
        "                                     torchvision.transforms.Normalize((0.1307,), (0.3081,))])\n",
        "\n",
        "mnist_train = torchvision.datasets.MNIST('./files/', train=True, download=True, transform=tt)\n",
        "mnist_test = torchvision.datasets.MNIST('./files/', train=False, download=True, transform=tt)\n",
        "\n",
        "\n",
        "train_loader = torch.utils.data.DataLoader(mnist_train, batch_size=20, shuffle=True)\n",
        "test_loader = torch.utils.data.DataLoader(mnist_test, batch_size = 1000, shuffle=True)\n",
        "\n",
        "examples = enumerate(train_loader)\n",
        "batch_idx, (example_data, example_targets) = next(examples)"
      ],
      "execution_count": null,
      "outputs": []
    },
    {
      "cell_type": "code",
      "metadata": {
        "colab": {
          "base_uri": "https://localhost:8080/"
        },
        "id": "SpiqYCgpONgc",
        "outputId": "217c57a7-d61b-48ed-abfd-c33814d3d2b3"
      },
      "source": [
        "train_loader"
      ],
      "execution_count": 2,
      "outputs": [
        {
          "output_type": "execute_result",
          "data": {
            "text/plain": [
              "<torch.utils.data.dataloader.DataLoader at 0x7f02d22bfd30>"
            ]
          },
          "metadata": {
            "tags": []
          },
          "execution_count": 2
        }
      ]
    },
    {
      "cell_type": "code",
      "metadata": {
        "colab": {
          "base_uri": "https://localhost:8080/"
        },
        "id": "Sc_ompBfOPRg",
        "outputId": "01d58a36-8f92-45c5-b917-2f248e1a84fc"
      },
      "source": [
        "example_data.shape"
      ],
      "execution_count": 3,
      "outputs": [
        {
          "output_type": "execute_result",
          "data": {
            "text/plain": [
              "torch.Size([20, 1, 28, 28])"
            ]
          },
          "metadata": {
            "tags": []
          },
          "execution_count": 3
        }
      ]
    },
    {
      "cell_type": "code",
      "metadata": {
        "id": "gn2_LvNWOZ3z"
      },
      "source": [
        "from torch import nn\n",
        "from torch.nn import functional as F\n",
        "from torch.autograd import Variable\n",
        "import torch.optim as optim"
      ],
      "execution_count": 4,
      "outputs": []
    },
    {
      "cell_type": "code",
      "metadata": {
        "id": "P4XZN-3LO-jS"
      },
      "source": [
        "class Net(nn.Module):\n",
        "    def __init__(self):\n",
        "        super(Net, self).__init__()\n",
        "        self.conv1 = nn.Conv2d(1, 10, kernel_size=5)\n",
        "        self.conv2 = nn.Conv2d(10, 20, kernel_size=5)\n",
        "        self.conv2_drop = nn.Dropout2d()\n",
        "        self.fc1 = nn.Linear(320, 50)\n",
        "        self.fc2 = nn.Linear(50, 10)\n",
        "\n",
        "    def forward(self, x):\n",
        "        x = F.relu(F.max_pool2d(self.conv1(x), 2))\n",
        "        x = F.relu(F.max_pool2d(self.conv2_drop(self.conv2(x)), 2))\n",
        "        x = x.view(-1, 320)\n",
        "        x = F.relu(self.fc1(x))\n",
        "        x = F.dropout(x, training=self.training)\n",
        "        x = self.fc2(x)\n",
        "        return F.log_softmax(x, dim = 1)"
      ],
      "execution_count": 5,
      "outputs": []
    },
    {
      "cell_type": "code",
      "metadata": {
        "id": "-WQXDQ74PLfl"
      },
      "source": [
        "network = Net()"
      ],
      "execution_count": 6,
      "outputs": []
    },
    {
      "cell_type": "code",
      "metadata": {
        "id": "thdWoN7KQfQq"
      },
      "source": [
        "optimizer = optim.SGD(network.parameters(), lr = 0.01)"
      ],
      "execution_count": 7,
      "outputs": []
    },
    {
      "cell_type": "code",
      "metadata": {
        "colab": {
          "base_uri": "https://localhost:8080/"
        },
        "id": "vN-CFHFCQmhp",
        "outputId": "e1255a4c-5262-4d77-8737-f12ad53e8862"
      },
      "source": [
        "for iteration in range(10):\n",
        "  for batch_idx, (data, target) in enumerate(train_loader):\n",
        "\n",
        "    optimizer.zero_grad()\n",
        "    output = network(data)\n",
        "    loss = F.nll_loss(output, target)\n",
        "    loss.backward()\n",
        "    optimizer.step()\n",
        "\n",
        "    if batch_idx % 500 == 0:\n",
        "      print(loss.item())"
      ],
      "execution_count": null,
      "outputs": [
        {
          "output_type": "stream",
          "text": [
            "2.3389291763305664\n",
            "1.1801916360855103\n",
            "0.3298601508140564\n",
            "0.6380429863929749\n",
            "0.32825911045074463\n",
            "0.40180182456970215\n",
            "0.38519176840782166\n",
            "0.21867668628692627\n",
            "0.21635110676288605\n",
            "0.13684645295143127\n",
            "0.31843820214271545\n",
            "0.25247684121131897\n",
            "0.13615700602531433\n",
            "0.2451208084821701\n",
            "0.3534315228462219\n",
            "0.2231675684452057\n",
            "0.30634862184524536\n",
            "0.28645870089530945\n",
            "0.04708176106214523\n",
            "0.19946470856666565\n",
            "0.22912177443504333\n",
            "0.24374370276927948\n",
            "0.4475262761116028\n",
            "0.2408103495836258\n",
            "0.7664046287536621\n",
            "0.09364001452922821\n",
            "0.3772566020488739\n",
            "0.0638391450047493\n",
            "0.32588157057762146\n",
            "0.024475598707795143\n",
            "0.08929113298654556\n",
            "0.4940183758735657\n",
            "0.2506020665168762\n",
            "0.017952853813767433\n",
            "0.01199860405176878\n",
            "0.2861446142196655\n",
            "0.4728274345397949\n",
            "0.2366124838590622\n",
            "1.0166678428649902\n",
            "0.049511827528476715\n",
            "0.06639349460601807\n",
            "0.2823609709739685\n",
            "0.060056041926145554\n",
            "0.6406525373458862\n"
          ],
          "name": "stdout"
        }
      ]
    },
    {
      "cell_type": "code",
      "metadata": {
        "id": "LNPnMeVgQuOk"
      },
      "source": [
        ""
      ],
      "execution_count": null,
      "outputs": []
    }
  ]
}