{
  "nbformat": 4,
  "nbformat_minor": 0,
  "metadata": {
    "colab": {
      "name": "multilayerperceptron.ipynb",
      "provenance": [],
      "collapsed_sections": []
    },
    "kernelspec": {
      "name": "python3",
      "display_name": "Python 3"
    },
    "accelerator": "GPU"
  },
  "cells": [
    {
      "cell_type": "code",
      "metadata": {
        "id": "JmGi0Moh4JA2"
      },
      "source": [
        "import torch\n",
        "import numpy as np\n",
        "\n",
        "from torch import nn\n",
        "from torch.nn import functional\n",
        "from torch.autograd import Variable\n",
        "\n",
        "from sklearn import datasets\n",
        "from sklearn.metrics import precision_score, recall_score, f1_score, classification_report, confusion_matrix\n",
        "from sklearn.model_selection import train_test_split"
      ],
      "execution_count": 1,
      "outputs": []
    },
    {
      "cell_type": "code",
      "metadata": {
        "colab": {
          "base_uri": "https://localhost:8080/"
        },
        "id": "BsNiNphkMCBg",
        "outputId": "4e590728-8a7c-4da3-f5af-25491b9d3ba5"
      },
      "source": [
        ""
      ],
      "execution_count": 3,
      "outputs": [
        {
          "output_type": "execute_result",
          "data": {
            "text/plain": [
              "True"
            ]
          },
          "metadata": {
            "tags": []
          },
          "execution_count": 3
        }
      ]
    },
    {
      "cell_type": "code",
      "metadata": {
        "id": "3Xoo76ur4Njj"
      },
      "source": [
        "iris = datasets.load_iris()"
      ],
      "execution_count": 4,
      "outputs": []
    },
    {
      "cell_type": "code",
      "metadata": {
        "colab": {
          "base_uri": "https://localhost:8080/"
        },
        "id": "h-rPx2Zl5l4M",
        "outputId": "6708a6c4-4657-4be7-9723-9aca02630d79"
      },
      "source": [
        "iris.keys()"
      ],
      "execution_count": 5,
      "outputs": [
        {
          "output_type": "execute_result",
          "data": {
            "text/plain": [
              "dict_keys(['data', 'target', 'target_names', 'DESCR', 'feature_names', 'filename'])"
            ]
          },
          "metadata": {
            "tags": []
          },
          "execution_count": 5
        }
      ]
    },
    {
      "cell_type": "code",
      "metadata": {
        "id": "-FkYGAe25ne-"
      },
      "source": [
        "X_train, X_test, y_train, y_test = train_test_split(iris.data,\n",
        "                                                    iris.target,\n",
        "                                                    test_size = 0.2,\n",
        "                                                    random_state = 101010)"
      ],
      "execution_count": 14,
      "outputs": []
    },
    {
      "cell_type": "code",
      "metadata": {
        "id": "8aTnZHEC5pdq"
      },
      "source": [
        "class MLP(nn.Module):\n",
        "\n",
        "  def __init__(self):\n",
        "\n",
        "    super(MLP, self).__init__()\n",
        "\n",
        "    self.W1 = nn.Linear(4, 2)\n",
        "    self.W2 = nn.Linear(2, 3)\n",
        "\n",
        "    self.softmax = nn.Softmax(dim = 1)\n",
        "\n",
        "  def forward(self, X):\n",
        "\n",
        "    X = functional.relu(self.W1(X))\n",
        "    X = self.W2(X)\n",
        "    X = self.softmax(X)\n",
        "\n",
        "    return X\n"
      ],
      "execution_count": 7,
      "outputs": []
    },
    {
      "cell_type": "code",
      "metadata": {
        "id": "LBzPSDf__3W3"
      },
      "source": [
        "X_train = Variable(torch.Tensor(X_train).float().cuda())\n",
        "X_test = Variable(torch.Tensor(X_test).float().cuda())\n",
        "y_train = Variable(torch.Tensor(y_train).long().cuda())\n",
        "y_test = Variable(torch.Tensor(y_test).long().cuda())"
      ],
      "execution_count": 15,
      "outputs": []
    },
    {
      "cell_type": "code",
      "metadata": {
        "colab": {
          "base_uri": "https://localhost:8080/"
        },
        "id": "SV1atX4WAjpZ",
        "outputId": "6ebee649-b2a3-4b0f-f2b8-3cc64c8487d5"
      },
      "source": [
        "X_train.shape, X_test.shape"
      ],
      "execution_count": 16,
      "outputs": [
        {
          "output_type": "execute_result",
          "data": {
            "text/plain": [
              "(torch.Size([120, 4]), torch.Size([30, 4]))"
            ]
          },
          "metadata": {
            "tags": []
          },
          "execution_count": 16
        }
      ]
    },
    {
      "cell_type": "code",
      "metadata": {
        "id": "DQtGVul1A003"
      },
      "source": [
        "criterion = nn.CrossEntropyLoss()"
      ],
      "execution_count": 20,
      "outputs": []
    },
    {
      "cell_type": "code",
      "metadata": {
        "id": "v421GxHZB0_x"
      },
      "source": [
        "mlp = MLP()\n",
        "mlp.cuda()\n",
        "optimizer = torch.optim.SGD(mlp.parameters(), lr = 0.01)"
      ],
      "execution_count": 21,
      "outputs": []
    },
    {
      "cell_type": "code",
      "metadata": {
        "colab": {
          "base_uri": "https://localhost:8080/"
        },
        "id": "pLa2wHuxE-Zo",
        "outputId": "62041204-9613-4082-dc09-e777c8a20bc0"
      },
      "source": [
        "for iteration in range(50000):\n",
        "\n",
        "  optimizer.zero_grad()\n",
        "  output = mlp(X_train) # forward pass\n",
        "  error = criterion(output, y_train)\n",
        "  error.backward()\n",
        "  optimizer.step()\n",
        "\n",
        "  if iteration % 500 == 0:\n",
        "    print('Iteration %d: error = %2.2f' % (iteration, error.data))"
      ],
      "execution_count": 22,
      "outputs": [
        {
          "output_type": "stream",
          "text": [
            "Iteration 0: error = 1.11\n",
            "Iteration 500: error = 1.09\n",
            "Iteration 1000: error = 0.99\n",
            "Iteration 1500: error = 0.89\n",
            "Iteration 2000: error = 0.87\n",
            "Iteration 2500: error = 0.85\n",
            "Iteration 3000: error = 0.83\n",
            "Iteration 3500: error = 0.80\n",
            "Iteration 4000: error = 0.78\n",
            "Iteration 4500: error = 0.76\n",
            "Iteration 5000: error = 0.74\n",
            "Iteration 5500: error = 0.73\n",
            "Iteration 6000: error = 0.71\n",
            "Iteration 6500: error = 0.70\n",
            "Iteration 7000: error = 0.69\n",
            "Iteration 7500: error = 0.68\n",
            "Iteration 8000: error = 0.68\n",
            "Iteration 8500: error = 0.67\n",
            "Iteration 9000: error = 0.66\n",
            "Iteration 9500: error = 0.66\n",
            "Iteration 10000: error = 0.65\n",
            "Iteration 10500: error = 0.65\n",
            "Iteration 11000: error = 0.65\n",
            "Iteration 11500: error = 0.64\n",
            "Iteration 12000: error = 0.64\n",
            "Iteration 12500: error = 0.64\n",
            "Iteration 13000: error = 0.63\n",
            "Iteration 13500: error = 0.63\n",
            "Iteration 14000: error = 0.63\n",
            "Iteration 14500: error = 0.63\n",
            "Iteration 15000: error = 0.63\n",
            "Iteration 15500: error = 0.62\n",
            "Iteration 16000: error = 0.62\n",
            "Iteration 16500: error = 0.62\n",
            "Iteration 17000: error = 0.62\n",
            "Iteration 17500: error = 0.62\n",
            "Iteration 18000: error = 0.62\n",
            "Iteration 18500: error = 0.62\n",
            "Iteration 19000: error = 0.61\n",
            "Iteration 19500: error = 0.61\n",
            "Iteration 20000: error = 0.61\n",
            "Iteration 20500: error = 0.61\n",
            "Iteration 21000: error = 0.61\n",
            "Iteration 21500: error = 0.61\n",
            "Iteration 22000: error = 0.61\n",
            "Iteration 22500: error = 0.61\n",
            "Iteration 23000: error = 0.61\n",
            "Iteration 23500: error = 0.61\n",
            "Iteration 24000: error = 0.61\n",
            "Iteration 24500: error = 0.61\n",
            "Iteration 25000: error = 0.60\n",
            "Iteration 25500: error = 0.60\n",
            "Iteration 26000: error = 0.60\n",
            "Iteration 26500: error = 0.60\n",
            "Iteration 27000: error = 0.60\n",
            "Iteration 27500: error = 0.60\n",
            "Iteration 28000: error = 0.60\n",
            "Iteration 28500: error = 0.60\n",
            "Iteration 29000: error = 0.60\n",
            "Iteration 29500: error = 0.60\n",
            "Iteration 30000: error = 0.60\n",
            "Iteration 30500: error = 0.60\n",
            "Iteration 31000: error = 0.60\n",
            "Iteration 31500: error = 0.60\n",
            "Iteration 32000: error = 0.60\n",
            "Iteration 32500: error = 0.60\n",
            "Iteration 33000: error = 0.60\n",
            "Iteration 33500: error = 0.60\n",
            "Iteration 34000: error = 0.60\n",
            "Iteration 34500: error = 0.60\n",
            "Iteration 35000: error = 0.60\n",
            "Iteration 35500: error = 0.60\n",
            "Iteration 36000: error = 0.59\n",
            "Iteration 36500: error = 0.59\n",
            "Iteration 37000: error = 0.59\n",
            "Iteration 37500: error = 0.59\n",
            "Iteration 38000: error = 0.59\n",
            "Iteration 38500: error = 0.59\n",
            "Iteration 39000: error = 0.59\n",
            "Iteration 39500: error = 0.59\n",
            "Iteration 40000: error = 0.59\n",
            "Iteration 40500: error = 0.59\n",
            "Iteration 41000: error = 0.59\n",
            "Iteration 41500: error = 0.59\n",
            "Iteration 42000: error = 0.59\n",
            "Iteration 42500: error = 0.59\n",
            "Iteration 43000: error = 0.59\n",
            "Iteration 43500: error = 0.59\n",
            "Iteration 44000: error = 0.59\n",
            "Iteration 44500: error = 0.59\n",
            "Iteration 45000: error = 0.59\n",
            "Iteration 45500: error = 0.59\n",
            "Iteration 46000: error = 0.59\n",
            "Iteration 46500: error = 0.59\n",
            "Iteration 47000: error = 0.59\n",
            "Iteration 47500: error = 0.59\n",
            "Iteration 48000: error = 0.59\n",
            "Iteration 48500: error = 0.59\n",
            "Iteration 49000: error = 0.59\n",
            "Iteration 49500: error = 0.59\n"
          ],
          "name": "stdout"
        }
      ]
    },
    {
      "cell_type": "code",
      "metadata": {
        "id": "HLYbesheHIiR"
      },
      "source": [
        "predicted_p = mlp(X_test)"
      ],
      "execution_count": 21,
      "outputs": []
    },
    {
      "cell_type": "code",
      "metadata": {
        "id": "_tG8p3zEHF5M"
      },
      "source": [
        "p_max, y_pred = torch.max(predicted_p, 1)"
      ],
      "execution_count": 24,
      "outputs": []
    },
    {
      "cell_type": "code",
      "metadata": {
        "colab": {
          "base_uri": "https://localhost:8080/"
        },
        "id": "wAdyRl4aF_oc",
        "outputId": "ba12e807-1e54-485a-9e5c-b27c1e7712cd"
      },
      "source": [
        "y_pred"
      ],
      "execution_count": 28,
      "outputs": [
        {
          "output_type": "execute_result",
          "data": {
            "text/plain": [
              "tensor([0, 0, 1, 0, 1, 1, 2, 2, 1, 1, 0, 2, 0, 2, 0, 1, 0, 1, 2, 0, 1, 0, 1, 1,\n",
              "        0, 0, 2, 2, 0, 2])"
            ]
          },
          "metadata": {
            "tags": []
          },
          "execution_count": 28
        }
      ]
    },
    {
      "cell_type": "code",
      "metadata": {
        "colab": {
          "base_uri": "https://localhost:8080/"
        },
        "id": "C4HGX5M1KXB_",
        "outputId": "81d676ec-c423-4a9a-d726-a7b1b4465cce"
      },
      "source": [
        "y_test"
      ],
      "execution_count": 29,
      "outputs": [
        {
          "output_type": "execute_result",
          "data": {
            "text/plain": [
              "tensor([0, 0, 1, 0, 1, 1, 2, 2, 1, 1, 0, 2, 0, 2, 0, 1, 0, 1, 2, 0, 1, 0, 1, 1,\n",
              "        0, 0, 2, 2, 0, 2])"
            ]
          },
          "metadata": {
            "tags": []
          },
          "execution_count": 29
        }
      ]
    },
    {
      "cell_type": "code",
      "metadata": {
        "colab": {
          "base_uri": "https://localhost:8080/"
        },
        "id": "W-hBvaqkKfX1",
        "outputId": "062fe23a-d175-40a1-faf4-5576fb9d2d2f"
      },
      "source": [
        "confusion_matrix(y_test, y_pred)"
      ],
      "execution_count": 30,
      "outputs": [
        {
          "output_type": "execute_result",
          "data": {
            "text/plain": [
              "array([[12,  0,  0],\n",
              "       [ 0, 10,  0],\n",
              "       [ 0,  0,  8]])"
            ]
          },
          "metadata": {
            "tags": []
          },
          "execution_count": 30
        }
      ]
    },
    {
      "cell_type": "code",
      "metadata": {
        "colab": {
          "base_uri": "https://localhost:8080/"
        },
        "id": "hgLLKE_eKjov",
        "outputId": "cd2854d6-ab52-4921-d1f5-b06bc2277f7e"
      },
      "source": [
        "print(classification_report(y_test, y_pred))"
      ],
      "execution_count": 32,
      "outputs": [
        {
          "output_type": "stream",
          "text": [
            "              precision    recall  f1-score   support\n",
            "\n",
            "           0       1.00      1.00      1.00        12\n",
            "           1       1.00      1.00      1.00        10\n",
            "           2       1.00      1.00      1.00         8\n",
            "\n",
            "    accuracy                           1.00        30\n",
            "   macro avg       1.00      1.00      1.00        30\n",
            "weighted avg       1.00      1.00      1.00        30\n",
            "\n"
          ],
          "name": "stdout"
        }
      ]
    },
    {
      "cell_type": "code",
      "metadata": {
        "id": "os4i7fBTKvzE"
      },
      "source": [
        ""
      ],
      "execution_count": null,
      "outputs": []
    }
  ]
}